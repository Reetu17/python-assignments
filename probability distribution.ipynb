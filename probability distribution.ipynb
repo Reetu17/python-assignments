{
 "cells": [
  {
   "cell_type": "code",
   "execution_count": 1,
   "metadata": {},
   "outputs": [
    {
     "data": {
      "text/html": [
       "0.115000446816"
      ],
      "text/latex": [
       "0.115000446816"
      ],
      "text/markdown": [
       "0.115000446816"
      ],
      "text/plain": [
       "[1] 0.1150004"
      ]
     },
     "metadata": {},
     "output_type": "display_data"
    }
   ],
   "source": [
    "dbinom(2, size=4, prob=0.166)"
   ]
  },
  {
   "cell_type": "code",
   "execution_count": 2,
   "metadata": {},
   "outputs": [
    {
     "data": {
      "text/html": [
       "0.001518666272"
      ],
      "text/latex": [
       "0.001518666272"
      ],
      "text/markdown": [
       "0.001518666272"
      ],
      "text/plain": [
       "[1] 0.001518666"
      ]
     },
     "metadata": {},
     "output_type": "display_data"
    }
   ],
   "source": [
    "dbinom(4, size=4, prob=0.166) +\n",
    "+ dbinom(4, size=4, prob=0.166)"
   ]
  },
  {
   "cell_type": "code",
   "execution_count": 3,
   "metadata": {},
   "outputs": [
    {
     "data": {
      "text/html": [
       "0.143785268517511"
      ],
      "text/latex": [
       "0.143785268517511"
      ],
      "text/markdown": [
       "0.143785268517511"
      ],
      "text/plain": [
       "[1] 0.1437853"
      ]
     },
     "metadata": {},
     "output_type": "display_data"
    }
   ],
   "source": [
    "dpois(2,0.8)"
   ]
  },
  {
   "cell_type": "code",
   "execution_count": null,
   "metadata": {},
   "outputs": [],
   "source": []
  }
 ],
 "metadata": {
  "kernelspec": {
   "display_name": "R",
   "language": "R",
   "name": "ir"
  },
  "language_info": {
   "codemirror_mode": "r",
   "file_extension": ".r",
   "mimetype": "text/x-r-source",
   "name": "R",
   "pygments_lexer": "r",
   "version": "3.6.1"
  }
 },
 "nbformat": 4,
 "nbformat_minor": 4
}
